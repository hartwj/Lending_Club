{
  "nbformat": 4,
  "nbformat_minor": 0,
  "metadata": {
    "colab": {
      "name": "Lending Club",
      "provenance": [],
      "collapsed_sections": [],
      "include_colab_link": true
    },
    "kernelspec": {
      "name": "python3",
      "display_name": "Python 3"
    }
  },
  "cells": [
    {
      "cell_type": "markdown",
      "metadata": {
        "id": "view-in-github",
        "colab_type": "text"
      },
      "source": [
        "<a href=\"https://colab.research.google.com/github/hartwj/Lending_Club/blob/master/Lending_Club.ipynb\" target=\"_parent\"><img src=\"https://colab.research.google.com/assets/colab-badge.svg\" alt=\"Open In Colab\"/></a>"
      ]
    },
    {
      "cell_type": "markdown",
      "metadata": {
        "id": "b303czQnwtqs"
      },
      "source": [
        "# Overview of Lending Club Assignment\n",
        "\n",
        "This assignment was completed for my machine learning in Python class at the University of Pennsylvania. We were instructed to develop and train a model that could predict whether a borrower would be accepeted or denied a loan, using data from lending club. \n",
        "\n",
        "Each row of the file represents a single user\n",
        "account on **LendingClub.com**. The site consists of two types of users, **borrowers** who are applying for a new loan, and **investors** who lend money for fixed periods of time. Each row in our dataset represents a single borrower at the time they apply for their first peer-to-peer loan, and each row contains nine columns:\n",
        "\n",
        "- Amount requested for their first loan\n",
        "- Year the loan was requested (this dataset covers only a five-year period, 2008-2012)\n",
        "- Title of the loan application (written by the borrower)\n",
        "- FICO score (credit rating) of the borrower\n",
        "- “Debt-to-Income”: A ratio of the borrower’s total monthly debt payments, excluding home\n",
        "mortgage and the requested loan, to the borrower’s self-reported monthly income.\n",
        "- ZIP code of the borrower (the last two digits of each ZIP are masked for anonymity)\n",
        "- U.S. state that the borrower resides in.\n",
        "- Length of time that the borrower has been employed at their current job, from 0 to 10+ years.\n",
        "- A binary outcome variable for whether the user’s loan application was accepted by investors.\n"
      ]
    },
    {
      "cell_type": "code",
      "metadata": {
        "id": "QjQu1eg1EWBC",
        "colab": {
          "base_uri": "https://localhost:8080/",
          "height": 107
        },
        "outputId": "5dbc20e0-34bb-47b4-bc14-a2cc84457988"
      },
      "source": [
        "import math\n",
        "import pandas as pd\n",
        "import numpy as np\n",
        "import statsmodels.formula.api as smf\n",
        "import matplotlib.pyplot as plt\n",
        "import calendar\n",
        "import itertools\n",
        "from scipy import stats\n",
        "from matplotlib import dates\n",
        "from datetime import datetime\n",
        "\n",
        "from sklearn.metrics import accuracy_score, precision_score, recall_score, f1_score, cohen_kappa_score, confusion_matrix, ConfusionMatrixDisplay\n",
        "from sklearn.linear_model import LogisticRegression\n",
        "from sklearn.tree import DecisionTreeClassifier\n",
        "from sklearn import tree\n",
        "from sklearn.model_selection import train_test_split, KFold, StratifiedKFold, GroupKFold, GridSearchCV\n",
        "from sklearn.utils.testing import ignore_warnings\n",
        "from sklearn.exceptions import ConvergenceWarning, UndefinedMetricWarning"
      ],
      "execution_count": null,
      "outputs": [
        {
          "output_type": "stream",
          "text": [
            "/usr/local/lib/python3.6/dist-packages/statsmodels/tools/_testing.py:19: FutureWarning: pandas.util.testing is deprecated. Use the functions in the public API at pandas.testing instead.\n",
            "  import pandas.util.testing as tm\n",
            "/usr/local/lib/python3.6/dist-packages/sklearn/utils/deprecation.py:144: FutureWarning: The sklearn.utils.testing module is  deprecated in version 0.22 and will be removed in version 0.24. The corresponding classes / functions should instead be imported from sklearn.utils. Anything that cannot be imported from sklearn.utils is now part of the private API.\n",
            "  warnings.warn(message, FutureWarning)\n"
          ],
          "name": "stderr"
        }
      ]
    },
    {
      "cell_type": "markdown",
      "metadata": {
        "id": "2o1yJ2iBxEF4"
      },
      "source": [
        "# Download the Data \n",
        "Keep this if you are working in Google Colab. Delete this if you are working on your own computer and have the data downloaded already. "
      ]
    },
    {
      "cell_type": "code",
      "metadata": {
        "id": "UT2wAPLswcXw",
        "colab": {
          "base_uri": "https://localhost:8080/",
          "height": 332
        },
        "outputId": "1c93974c-d3d0-4a20-e0e3-2413e8fb2a5c"
      },
      "source": [
        "!wget --no-check-certificate 'https://docs.google.com/uc?export=download&id=0B5qTk6DHjanhOV9LRE5DY3l1T2pGemVBNTVQVzVsMlFCcHF3' -O lendingclub.csv"
      ],
      "execution_count": null,
      "outputs": [
        {
          "output_type": "stream",
          "text": [
            "--2020-07-29 01:34:22--  https://docs.google.com/uc?export=download&id=0B5qTk6DHjanhOV9LRE5DY3l1T2pGemVBNTVQVzVsMlFCcHF3\n",
            "Resolving docs.google.com (docs.google.com)... 74.125.195.102, 74.125.195.138, 74.125.195.113, ...\n",
            "Connecting to docs.google.com (docs.google.com)|74.125.195.102|:443... connected.\n",
            "HTTP request sent, awaiting response... 302 Moved Temporarily\n",
            "Location: https://doc-10-5c-docs.googleusercontent.com/docs/securesc/ha0ro937gcuc7l7deffksulhg5h7mbp1/iege4cjorsep91j9gn36aqn11vsu55e8/1595986425000/09819396713149841370/*/0B5qTk6DHjanhOV9LRE5DY3l1T2pGemVBNTVQVzVsMlFCcHF3?e=download [following]\n",
            "Warning: wildcards not supported in HTTP.\n",
            "--2020-07-29 01:34:23--  https://doc-10-5c-docs.googleusercontent.com/docs/securesc/ha0ro937gcuc7l7deffksulhg5h7mbp1/iege4cjorsep91j9gn36aqn11vsu55e8/1595986425000/09819396713149841370/*/0B5qTk6DHjanhOV9LRE5DY3l1T2pGemVBNTVQVzVsMlFCcHF3?e=download\n",
            "Resolving doc-10-5c-docs.googleusercontent.com (doc-10-5c-docs.googleusercontent.com)... 74.125.20.132, 2607:f8b0:400e:c07::84\n",
            "Connecting to doc-10-5c-docs.googleusercontent.com (doc-10-5c-docs.googleusercontent.com)|74.125.20.132|:443... connected.\n",
            "HTTP request sent, awaiting response... 200 OK\n",
            "Length: unspecified [text/csv]\n",
            "Saving to: ‘lendingclub.csv’\n",
            "\n",
            "lendingclub.csv         [ <=>                ]   6.03M  --.-KB/s    in 0.06s   \n",
            "\n",
            "2020-07-29 01:34:23 (95.1 MB/s) - ‘lendingclub.csv’ saved [6325329]\n",
            "\n"
          ],
          "name": "stdout"
        }
      ]
    },
    {
      "cell_type": "markdown",
      "metadata": {
        "id": "8jV6x5r_y5CB"
      },
      "source": [
        "# Training a Decision Tree Classifier: \n",
        "\n",
        "The task is predicting the outcome of each applicant's proposal. Labels are binary - approved or rejected. There are several possible features - ranging from loan amount to fico score to employment history. The first step is building a decision tree to evaluate which features matter for our prediction"
      ]
    },
    {
      "cell_type": "code",
      "metadata": {
        "id": "dRSRe-J2LWzR",
        "colab": {
          "base_uri": "https://localhost:8080/",
          "height": 202
        },
        "outputId": "c0557c63-d052-4289-8f0a-e98324e4f95c"
      },
      "source": [
        "lendingclub = pd.read_csv(\"lendingclub.csv\")\n",
        "lendingclub.head()"
      ],
      "execution_count": null,
      "outputs": [
        {
          "output_type": "execute_result",
          "data": {
            "text/html": [
              "<div>\n",
              "<style scoped>\n",
              "    .dataframe tbody tr th:only-of-type {\n",
              "        vertical-align: middle;\n",
              "    }\n",
              "\n",
              "    .dataframe tbody tr th {\n",
              "        vertical-align: top;\n",
              "    }\n",
              "\n",
              "    .dataframe thead th {\n",
              "        text-align: right;\n",
              "    }\n",
              "</style>\n",
              "<table border=\"1\" class=\"dataframe\">\n",
              "  <thead>\n",
              "    <tr style=\"text-align: right;\">\n",
              "      <th></th>\n",
              "      <th>amount</th>\n",
              "      <th>date</th>\n",
              "      <th>title</th>\n",
              "      <th>fico</th>\n",
              "      <th>dti</th>\n",
              "      <th>zip</th>\n",
              "      <th>state</th>\n",
              "      <th>emp_length</th>\n",
              "      <th>policy_code</th>\n",
              "      <th>year</th>\n",
              "      <th>outcome</th>\n",
              "    </tr>\n",
              "  </thead>\n",
              "  <tbody>\n",
              "    <tr>\n",
              "      <th>0</th>\n",
              "      <td>2500.0</td>\n",
              "      <td>Dec-2011</td>\n",
              "      <td>bike</td>\n",
              "      <td>740.0</td>\n",
              "      <td>1.00</td>\n",
              "      <td>309xx</td>\n",
              "      <td>GA</td>\n",
              "      <td>&lt; 1 year</td>\n",
              "      <td>1.0</td>\n",
              "      <td>2011</td>\n",
              "      <td>accept</td>\n",
              "    </tr>\n",
              "    <tr>\n",
              "      <th>1</th>\n",
              "      <td>12000.0</td>\n",
              "      <td>Dec-2011</td>\n",
              "      <td>Consolidation</td>\n",
              "      <td>675.0</td>\n",
              "      <td>10.78</td>\n",
              "      <td>913xx</td>\n",
              "      <td>CA</td>\n",
              "      <td>10+ years</td>\n",
              "      <td>1.0</td>\n",
              "      <td>2011</td>\n",
              "      <td>accept</td>\n",
              "    </tr>\n",
              "    <tr>\n",
              "      <th>2</th>\n",
              "      <td>21000.0</td>\n",
              "      <td>Dec-2011</td>\n",
              "      <td>Debt Cleanup</td>\n",
              "      <td>705.0</td>\n",
              "      <td>13.22</td>\n",
              "      <td>335xx</td>\n",
              "      <td>FL</td>\n",
              "      <td>10+ years</td>\n",
              "      <td>1.0</td>\n",
              "      <td>2011</td>\n",
              "      <td>accept</td>\n",
              "    </tr>\n",
              "    <tr>\n",
              "      <th>3</th>\n",
              "      <td>31825.0</td>\n",
              "      <td>Dec-2011</td>\n",
              "      <td>Debt Consolidation Loan</td>\n",
              "      <td>760.0</td>\n",
              "      <td>14.03</td>\n",
              "      <td>080xx</td>\n",
              "      <td>NJ</td>\n",
              "      <td>5 years</td>\n",
              "      <td>1.0</td>\n",
              "      <td>2011</td>\n",
              "      <td>accept</td>\n",
              "    </tr>\n",
              "    <tr>\n",
              "      <th>4</th>\n",
              "      <td>12000.0</td>\n",
              "      <td>Dec-2011</td>\n",
              "      <td>Debt Consolidation</td>\n",
              "      <td>725.0</td>\n",
              "      <td>16.70</td>\n",
              "      <td>088xx</td>\n",
              "      <td>NJ</td>\n",
              "      <td>10+ years</td>\n",
              "      <td>1.0</td>\n",
              "      <td>2011</td>\n",
              "      <td>accept</td>\n",
              "    </tr>\n",
              "  </tbody>\n",
              "</table>\n",
              "</div>"
            ],
            "text/plain": [
              "    amount      date                    title  ...  policy_code  year outcome\n",
              "0   2500.0  Dec-2011                     bike  ...          1.0  2011  accept\n",
              "1  12000.0  Dec-2011            Consolidation  ...          1.0  2011  accept\n",
              "2  21000.0  Dec-2011             Debt Cleanup  ...          1.0  2011  accept\n",
              "3  31825.0  Dec-2011  Debt Consolidation Loan  ...          1.0  2011  accept\n",
              "4  12000.0  Dec-2011       Debt Consolidation  ...          1.0  2011  accept\n",
              "\n",
              "[5 rows x 11 columns]"
            ]
          },
          "metadata": {
            "tags": []
          },
          "execution_count": 5
        }
      ]
    },
    {
      "cell_type": "code",
      "metadata": {
        "id": "VUAwPXTIMAK6",
        "colab": {
          "base_uri": "https://localhost:8080/",
          "height": 202
        },
        "outputId": "8c43f4c8-a1e4-4294-b4e4-f072a8ff4e9d"
      },
      "source": [
        "#We need outcome to be binary - True/False\n",
        "#This step recodes Accept as True and Reject as False\n",
        "lendingclub[\"Accept\"] = lendingclub[\"outcome\"] == \"accept\"\n",
        "lendingclub.tail()"
      ],
      "execution_count": null,
      "outputs": [
        {
          "output_type": "execute_result",
          "data": {
            "text/html": [
              "<div>\n",
              "<style scoped>\n",
              "    .dataframe tbody tr th:only-of-type {\n",
              "        vertical-align: middle;\n",
              "    }\n",
              "\n",
              "    .dataframe tbody tr th {\n",
              "        vertical-align: top;\n",
              "    }\n",
              "\n",
              "    .dataframe thead th {\n",
              "        text-align: right;\n",
              "    }\n",
              "</style>\n",
              "<table border=\"1\" class=\"dataframe\">\n",
              "  <thead>\n",
              "    <tr style=\"text-align: right;\">\n",
              "      <th></th>\n",
              "      <th>amount</th>\n",
              "      <th>date</th>\n",
              "      <th>title</th>\n",
              "      <th>fico</th>\n",
              "      <th>dti</th>\n",
              "      <th>zip</th>\n",
              "      <th>state</th>\n",
              "      <th>emp_length</th>\n",
              "      <th>policy_code</th>\n",
              "      <th>year</th>\n",
              "      <th>outcome</th>\n",
              "      <th>Accept</th>\n",
              "    </tr>\n",
              "  </thead>\n",
              "  <tbody>\n",
              "    <tr>\n",
              "      <th>81098</th>\n",
              "      <td>2000.0</td>\n",
              "      <td>2012-12-31</td>\n",
              "      <td>other</td>\n",
              "      <td>615.0</td>\n",
              "      <td>56.33</td>\n",
              "      <td>365xx</td>\n",
              "      <td>AL</td>\n",
              "      <td>&lt; 1 year</td>\n",
              "      <td>0.0</td>\n",
              "      <td>2012</td>\n",
              "      <td>reject</td>\n",
              "      <td>False</td>\n",
              "    </tr>\n",
              "    <tr>\n",
              "      <th>81099</th>\n",
              "      <td>2000.0</td>\n",
              "      <td>2012-12-31</td>\n",
              "      <td>car</td>\n",
              "      <td>572.0</td>\n",
              "      <td>16.90</td>\n",
              "      <td>363xx</td>\n",
              "      <td>AL</td>\n",
              "      <td>&lt; 1 year</td>\n",
              "      <td>0.0</td>\n",
              "      <td>2012</td>\n",
              "      <td>reject</td>\n",
              "      <td>False</td>\n",
              "    </tr>\n",
              "    <tr>\n",
              "      <th>81100</th>\n",
              "      <td>35000.0</td>\n",
              "      <td>2012-12-31</td>\n",
              "      <td>debt_consolidation</td>\n",
              "      <td>556.0</td>\n",
              "      <td>21.44</td>\n",
              "      <td>347xx</td>\n",
              "      <td>FL</td>\n",
              "      <td>&lt; 1 year</td>\n",
              "      <td>0.0</td>\n",
              "      <td>2012</td>\n",
              "      <td>reject</td>\n",
              "      <td>False</td>\n",
              "    </tr>\n",
              "    <tr>\n",
              "      <th>81101</th>\n",
              "      <td>25000.0</td>\n",
              "      <td>2012-12-31</td>\n",
              "      <td>other</td>\n",
              "      <td>506.0</td>\n",
              "      <td>12.99</td>\n",
              "      <td>404xx</td>\n",
              "      <td>KY</td>\n",
              "      <td>&lt; 1 year</td>\n",
              "      <td>0.0</td>\n",
              "      <td>2012</td>\n",
              "      <td>reject</td>\n",
              "      <td>False</td>\n",
              "    </tr>\n",
              "    <tr>\n",
              "      <th>81102</th>\n",
              "      <td>35000.0</td>\n",
              "      <td>2012-12-31</td>\n",
              "      <td>other</td>\n",
              "      <td>597.0</td>\n",
              "      <td>4.13</td>\n",
              "      <td>211xx</td>\n",
              "      <td>MD</td>\n",
              "      <td>&lt; 1 year</td>\n",
              "      <td>0.0</td>\n",
              "      <td>2012</td>\n",
              "      <td>reject</td>\n",
              "      <td>False</td>\n",
              "    </tr>\n",
              "  </tbody>\n",
              "</table>\n",
              "</div>"
            ],
            "text/plain": [
              "        amount        date               title  ...  year  outcome Accept\n",
              "81098   2000.0  2012-12-31               other  ...  2012   reject  False\n",
              "81099   2000.0  2012-12-31                 car  ...  2012   reject  False\n",
              "81100  35000.0  2012-12-31  debt_consolidation  ...  2012   reject  False\n",
              "81101  25000.0  2012-12-31               other  ...  2012   reject  False\n",
              "81102  35000.0  2012-12-31               other  ...  2012   reject  False\n",
              "\n",
              "[5 rows x 12 columns]"
            ]
          },
          "metadata": {
            "tags": []
          },
          "execution_count": 6
        }
      ]
    },
    {
      "cell_type": "code",
      "metadata": {
        "id": "lgSGrT09MqKO"
      },
      "source": [
        "# As a data scientist there are pre-processing decisions that must be made\n",
        "# Evaluating all possible features, there are certain variables that can be ignored\n",
        "# Date is irrelevant  - it shouldn't have an impact on whether a loan is accepted or rejected\n",
        "# Title is messy and qualitative. There's too many possibilites to neatly organize it\n",
        "# Zip has been de-identified. This removes the possibility of learning precise locational info about the borrower\n",
        "      #It also hinders our ability to make a recommendation (i.e. identifying rich vs. poor neighborhoods)\n",
        "# This leaves us with the following features to test: \n",
        "# Amount, FICO, DTI, State, and Employment Length"
      ],
      "execution_count": null,
      "outputs": []
    },
    {
      "cell_type": "markdown",
      "metadata": {
        "id": "HEsjH69hQEro"
      },
      "source": [
        "As a data scientist there are pre-processing decisions that must be made. Evaluating all possible features, there are certain variables that can be ignored. \r\n",
        "\r\n",
        "- Date is irrelevant  - it shouldn't have an impact on whether a loan is accepted or rejected\r\n",
        "- Title is messy and qualitative. There's too many possibilites to neatly organize it\r\n",
        "- Zip has been de-identified. This removes the possibility of learning precise locational info about the borrower\r\n",
        "  - It also hinders our ability to make a recommendation (i.e. identifying rich vs. poor neighborhoods)\r\n",
        "\r\n",
        "This leaves us with the following features to test: \r\n",
        " - Amount, FICO, DTI, State, and Employment Length"
      ]
    },
    {
      "cell_type": "code",
      "metadata": {
        "id": "5KuNFWxgT3Re",
        "colab": {
          "base_uri": "https://localhost:8080/",
          "height": 335
        },
        "outputId": "5258a590-7502-4cb3-873a-f5e71c6a21b3"
      },
      "source": [
        "plt.hist(lendingclub[\"emp_length\"])\n"
      ],
      "execution_count": null,
      "outputs": [
        {
          "output_type": "execute_result",
          "data": {
            "text/plain": [
              "(array([57065.,  5959.,  2135.,   830.,  1627.,  3362.,  2690.,  1243.,\n",
              "         1054.,  5138.]),\n",
              " array([ 0.,  1.,  2.,  3.,  4.,  5.,  6.,  7.,  8.,  9., 10.]),\n",
              " <a list of 10 Patch objects>)"
            ]
          },
          "metadata": {
            "tags": []
          },
          "execution_count": 8
        },
        {
          "output_type": "display_data",
          "data": {
            "image/png": "[encoded data removed]",
            "text/plain": [
              "<Figure size 432x288 with 1 Axes>"
            ]
          },
          "metadata": {
            "tags": [],
            "needs_background": "light"
          }
        }
      ]
    },
    {
      "cell_type": "code",
      "metadata": {
        "id": "T-g3PDuVO-i-",
        "colab": {
          "base_uri": "https://localhost:8080/",
          "height": 87
        },
        "outputId": "0fb43718-c820-48a6-c17e-dfb83a6e04c8"
      },
      "source": [
        "#Now let's normalize employment length\n",
        "#It's messy and heavy text based\n",
        "#This new custom function will break it down into 3 categories - short, medium, and long\n",
        "def employ_norm(x):\n",
        "    if x == \"< 1 year\":\n",
        "        return \"short\"\n",
        "    if x == \"2 years\":\n",
        "        return \"short\"\n",
        "    if x == \"3 years\":\n",
        "        return \"short\"\n",
        "    if x == \"4 years\":\n",
        "        return \"medium\"\n",
        "    if x == \"5 years\":\n",
        "        return \"medium\"\n",
        "    if x == \"6 years\":\n",
        "        return \"medium\"\n",
        "    if x == \"7 years\":\n",
        "        return \"long\"\n",
        "    if x == \"8 years\":\n",
        "        return \"long\"\n",
        "    if x == \"9 years\":\n",
        "        return \"long\"\n",
        "    if x == \"10+ years\":\n",
        "        return \"long\"\n",
        "    \n",
        "lendingclub[\"employ_norm\"] = lendingclub[\"emp_length\"].apply(employ_norm)\n",
        "lendingclub[\"employ_norm\"].value_counts()"
      ],
      "execution_count": null,
      "outputs": [
        {
          "output_type": "execute_result",
          "data": {
            "text/plain": [
              "short     63117\n",
              "long       9086\n",
              "medium     5937\n",
              "Name: employ_norm, dtype: int64"
            ]
          },
          "metadata": {
            "tags": []
          },
          "execution_count": 9
        }
      ]
    },
    {
      "cell_type": "code",
      "metadata": {
        "id": "N7-n6b1RZvYt",
        "colab": {
          "base_uri": "https://localhost:8080/",
          "height": 364
        },
        "outputId": "2fe09530-222b-4ee2-a347-094430fd2d63"
      },
      "source": [
        "# Now I'm building the decision tree model\n",
        "# I'll be looking at amount, fico, dti, state, and employment length and building 6 different models (labelled in feature_sets)\n",
        "# For the first run, these will be evaluated on accuracy and # of leaves\n",
        "# The hyperparamters will be splitting based on entropy and we will not be adjusting the leaf purity or sample split\n",
        "loan_features = [\"amount\"]\n",
        "credit_features = [\"fico\", \"dti\"]\n",
        "location_features = [\"state\"]\n",
        "employment_features = [\"employ_norm\"]\n",
        "\n",
        "feature_sets = {\n",
        "    \"loan only\": loan_features,\n",
        "    \"credit only\": credit_features,\n",
        "    \"loan and credit\": loan_features + credit_features,\n",
        "    \"location only\": location_features,\n",
        "    \"employment only\": employment_features,\n",
        "    \"all features\": loan_features + credit_features + location_features + employment_features\n",
        "}\n",
        "\n",
        "best = 0\n",
        "best_name = None\n",
        "\n",
        "for set_name, feature_set in feature_sets.items():\n",
        "\n",
        "    X = lendingclub.loc[:, feature_set]\n",
        "    X = pd.get_dummies(X)\n",
        "\n",
        "    y = lendingclub[\"Accept\"]\n",
        "\n",
        "    model = DecisionTreeClassifier(criterion=\"entropy\", random_state=123).fit(X, y)\n",
        "    y_pred = model.predict(X)\n",
        "\n",
        "    y_matches = (y_pred == y)\n",
        "    accuracy = 100*accuracy_score(y, y_pred)\n",
        "    if accuracy >= best:\n",
        "        best = accuracy\n",
        "        best_name = set_name\n",
        "        \n",
        "\n",
        "    # Bookkeeping and printing for the reader (not part of the core loop)\n",
        "    print(f\"Feature set: {set_name}\")\n",
        "    print(f\"   Accuracy: {accuracy:.1f}%\")\n",
        "    print(f\"   Tree contains {model.get_n_leaves()} leaves\")\n",
        "    \n",
        "\n",
        "print(f\"Best feature set is: {best_name} \\nWith: {best:.1f}% accuracy.\")    "
      ],
      "execution_count": null,
      "outputs": [
        {
          "output_type": "stream",
          "text": [
            "Feature set: loan only\n",
            "   Accuracy: 90.4%\n",
            "   Tree contains 891 leaves\n",
            "Feature set: credit only\n",
            "   Accuracy: 99.4%\n",
            "   Tree contains 5260 leaves\n",
            "Feature set: loan and credit\n",
            "   Accuracy: 100.0%\n",
            "   Tree contains 4748 leaves\n",
            "Feature set: location only\n",
            "   Accuracy: 88.6%\n",
            "   Tree contains 51 leaves\n",
            "Feature set: employment only\n",
            "   Accuracy: 88.6%\n",
            "   Tree contains 4 leaves\n",
            "Feature set: all features\n",
            "   Accuracy: 100.0%\n",
            "   Tree contains 3930 leaves\n",
            "Best feature set is: all features \n",
            "With: 100.0% accuracy.\n"
          ],
          "name": "stdout"
        }
      ]
    },
    {
      "cell_type": "code",
      "metadata": {
        "id": "ai3jq5W8eHFF"
      },
      "source": [
        "#Loan and credit is able to get 100% accuracy on predicting acceptance\n",
        "#All features also predicts 100% accuracy - but it proves that location and employment are potentially less important\n",
        "#Now lets evaluate the models based on precision, recall, and kappa"
      ],
      "execution_count": null,
      "outputs": []
    },
    {
      "cell_type": "code",
      "metadata": {
        "id": "rtvbAHrDedOr",
        "colab": {
          "base_uri": "https://localhost:8080/",
          "height": 765
        },
        "outputId": "09b223df-910d-4e66-91a6-dbe6c0298a7a"
      },
      "source": [
        "best = 0\n",
        "best_name = None\n",
        "\n",
        "precisions = []\n",
        "recalls = []\n",
        "kappas = []\n",
        "accuracies = []\n",
        "\n",
        "predictions = {}\n",
        "actual = None\n",
        "\n",
        "for set_name, feature_set in feature_sets.items():\n",
        "\n",
        "    X = lendingclub.loc[:, feature_set]\n",
        "    X = pd.get_dummies(X)\n",
        "\n",
        "    y = lendingclub[\"Accept\"]\n",
        "\n",
        "    X_train, X_test, y_train, y_test = train_test_split(X,y,test_size=0.20, random_state=123)\n",
        "\n",
        "    model = DecisionTreeClassifier(criterion=\"entropy\", random_state=123).fit(X_train, y_train)\n",
        "    y_pred = model.predict(X_test)\n",
        "\n",
        "    accuracy = 100*accuracy_score(y_test, y_pred)\n",
        "    kappa = cohen_kappa_score(y_test, y_pred)\n",
        "    precision = precision_score(y_test, y_pred)\n",
        "    recall = recall_score(y_test, y_pred)\n",
        "    \n",
        "    metric_to_optimize = accuracy\n",
        "    \n",
        "    if metric_to_optimize > best:\n",
        "        best = metric_to_optimize\n",
        "        best_name = set_name\n",
        "        \n",
        "    predictions[set_name] = y_pred\n",
        "    actual = np.array(list(y_test))\n",
        "    \n",
        "    # Bookkeeping and printing for the reader (not part of the core loop)\n",
        "    print(f\"Results for {set_name}:\")\n",
        "    print(confusion_matrix(y_test, y_pred))\n",
        "    print(f\"Accuracy: {accuracy:.1f} Kappa: {kappa:.3f} Precision: {precision:.3f} Recall: {recall:.3f}\")\n",
        "    precisions.append(precision)\n",
        "    recalls.append(recall)\n",
        "    kappas.append(kappa)\n",
        "    accuracies.append(accuracy)\n",
        "    print(f\"   Tree contains {model.get_n_leaves()} leaves\")\n",
        "    print(\"------------------------\")\n",
        "\n",
        "   \n",
        "print(f\"Best feature set is: {best_name} \\nWith: {best:.1f}% accuracy.\") "
      ],
      "execution_count": null,
      "outputs": [
        {
          "output_type": "stream",
          "text": [
            "Results for loan only:\n",
            "[[14178   171]\n",
            " [ 1489   383]]\n",
            "Accuracy: 89.8 Kappa: 0.278 Precision: 0.691 Recall: 0.205\n",
            "   Tree contains 822 leaves\n",
            "------------------------\n",
            "Results for credit only:\n",
            "[[13838   511]\n",
            " [  508  1364]]\n",
            "Accuracy: 93.7 Kappa: 0.693 Precision: 0.727 Recall: 0.729\n",
            "   Tree contains 4253 leaves\n",
            "------------------------\n",
            "Results for loan and credit:\n",
            "[[13856   493]\n",
            " [  521  1351]]\n",
            "Accuracy: 93.7 Kappa: 0.692 Precision: 0.733 Recall: 0.722\n",
            "   Tree contains 3759 leaves\n",
            "------------------------\n"
          ],
          "name": "stdout"
        },
        {
          "output_type": "stream",
          "text": [
            "/usr/local/lib/python3.6/dist-packages/sklearn/metrics/_classification.py:1272: UndefinedMetricWarning: Precision is ill-defined and being set to 0.0 due to no predicted samples. Use `zero_division` parameter to control this behavior.\n",
            "  _warn_prf(average, modifier, msg_start, len(result))\n",
            "/usr/local/lib/python3.6/dist-packages/sklearn/metrics/_classification.py:1272: UndefinedMetricWarning: Precision is ill-defined and being set to 0.0 due to no predicted samples. Use `zero_division` parameter to control this behavior.\n",
            "  _warn_prf(average, modifier, msg_start, len(result))\n"
          ],
          "name": "stderr"
        },
        {
          "output_type": "stream",
          "text": [
            "Results for location only:\n",
            "[[14349     0]\n",
            " [ 1872     0]]\n",
            "Accuracy: 88.5 Kappa: 0.000 Precision: 0.000 Recall: 0.000\n",
            "   Tree contains 51 leaves\n",
            "------------------------\n",
            "Results for employment only:\n",
            "[[14349     0]\n",
            " [ 1872     0]]\n",
            "Accuracy: 88.5 Kappa: 0.000 Precision: 0.000 Recall: 0.000\n",
            "   Tree contains 4 leaves\n",
            "------------------------\n",
            "Results for all features:\n",
            "[[13767   582]\n",
            " [  518  1354]]\n",
            "Accuracy: 93.2 Kappa: 0.673 Precision: 0.699 Recall: 0.723\n",
            "   Tree contains 3397 leaves\n",
            "------------------------\n",
            "Best feature set is: loan and credit \n",
            "With: 93.7% accuracy.\n"
          ],
          "name": "stdout"
        }
      ]
    },
    {
      "cell_type": "code",
      "metadata": {
        "id": "gwmDPJ3GgS_0"
      },
      "source": [
        "#Our best features are loan amount, fico score, and debt-income ratio\n",
        "#Its results are very similar to credit only, but has less leaves\n",
        "#While these results are good, the model will need to be further trained to reduce leaves"
      ],
      "execution_count": null,
      "outputs": []
    },
    {
      "cell_type": "code",
      "metadata": {
        "id": "r6efp4yig8YW",
        "colab": {
          "base_uri": "https://localhost:8080/",
          "height": 279
        },
        "outputId": "0d29c26e-a408-46f6-dc20-517e897b722d"
      },
      "source": [
        "#I ran a confusion matrix to examine our Y test and Y predict\n",
        "# The matrix shows the model does a very good job of accurately assigning accepts and rejects\n",
        "lendingclub[\"Reject\"] = lendingclub[\"outcome\"] == \"reject\"\n",
        "conf_matrix = confusion_matrix(y_test, y_pred)\n",
        "ConfusionMatrixDisplay(conf_matrix, [\"reject\", \"accept\"] ).plot(values_format='.4g')\n",
        "plt.show()"
      ],
      "execution_count": null,
      "outputs": [
        {
          "output_type": "display_data",
          "data": {
            "image/png": "[encoded data removed]",
            "text/plain": [
              "<Figure size 432x288 with 2 Axes>"
            ]
          },
          "metadata": {
            "tags": [],
            "needs_background": "light"
          }
        }
      ]
    },
    {
      "cell_type": "markdown",
      "metadata": {
        "id": "_xOhCWobzfhb"
      },
      "source": [
        "# Review: \n",
        "\n"
      ]
    },
    {
      "cell_type": "markdown",
      "metadata": {
        "id": "gnC28G-UznQN"
      },
      "source": [
        "The credit + loan model is 93% accurate. The precision, which evaluates all of our predicted \"accepts\" is 0.733. For business idea #1, where Lending Club is adding loans with high-likelihoods of acceptance to their balance sheet, this means that we would invest in some loans that will never be off-loaded to other investors. Not really a big problem, but it's not ideal. Ideally, precision would be 0.9 or greater.\n",
        "\n",
        "For the second business idea (auto-rejecting certain clients), our recall is 0.722, which is evaluating all of our models' \"reject\" predictions. Similar to precision, it would be much better in the 0.9+ range. The downside here is that we'll be rejecting some loans automatically that could have found investors later on. So it's more of a failed opportunity for origination and service fees. It's hard to quantify the benefits of business idea #2, but it could attract more borrowers to the platform with promises of automatic responses. "
      ]
    }
  ]
}
