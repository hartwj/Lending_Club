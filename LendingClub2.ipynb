{
  "nbformat": 4,
  "nbformat_minor": 0,
  "metadata": {
    "colab": {
      "name": "LendingClub2",
      "provenance": [],
      "collapsed_sections": [],
      "include_colab_link": true
    },
    "kernelspec": {
      "name": "python3",
      "display_name": "Python 3"
    }
  },
  "cells": [
    {
      "cell_type": "markdown",
      "metadata": {
        "id": "view-in-github",
        "colab_type": "text"
      },
      "source": [
        "<a href=\"https://colab.research.google.com/github/hartwj/Lending_Club/blob/master/LendingClub2.ipynb\" target=\"_parent\"><img src=\"https://colab.research.google.com/assets/colab-badge.svg\" alt=\"Open In Colab\"/></a>"
      ]
    },
    {
      "cell_type": "markdown",
      "metadata": {
        "id": "1-M5G2ryQRSe"
      },
      "source": [
        "# Overview of Lending Club Assignment 2\n",
        "Assignment 1 trained a machine learning classifier to predict borrower success rates on LendingClub.com, using a set of features that were already present in the dataset. This assingment is designed to optimize the model. \n",
        "\n"
      ]
    },
    {
      "cell_type": "code",
      "metadata": {
        "id": "8OTOc2Q04ldz",
        "colab": {
          "base_uri": "https://localhost:8080/"
        },
        "outputId": "022a398e-8aad-4707-a16f-fd3ee1b30e20"
      },
      "source": [
        "import math\n",
        "import pandas as pd\n",
        "import numpy as np\n",
        "import statsmodels.formula.api as smf\n",
        "import matplotlib.pyplot as plt\n",
        "import calendar\n",
        "import itertools\n",
        "from scipy import stats\n",
        "from matplotlib import dates\n",
        "from datetime import datetime\n",
        "\n",
        "from sklearn.metrics import accuracy_score, precision_score, recall_score, f1_score, cohen_kappa_score, confusion_matrix, ConfusionMatrixDisplay\n",
        "from sklearn.linear_model import LogisticRegression\n",
        "from sklearn.tree import DecisionTreeClassifier\n",
        "from sklearn import tree\n",
        "from sklearn.model_selection import train_test_split, KFold, StratifiedKFold, GroupKFold, GridSearchCV\n",
        "from sklearn.utils.testing import ignore_warnings\n",
        "from sklearn.exceptions import ConvergenceWarning, UndefinedMetricWarning"
      ],
      "execution_count": 1,
      "outputs": [
        {
          "output_type": "stream",
          "text": [
            "/usr/local/lib/python3.7/dist-packages/statsmodels/tools/_testing.py:19: FutureWarning: pandas.util.testing is deprecated. Use the functions in the public API at pandas.testing instead.\n",
            "  import pandas.util.testing as tm\n",
            "/usr/local/lib/python3.7/dist-packages/sklearn/utils/deprecation.py:144: FutureWarning: The sklearn.utils.testing module is  deprecated in version 0.22 and will be removed in version 0.24. The corresponding classes / functions should instead be imported from sklearn.utils. Anything that cannot be imported from sklearn.utils is now part of the private API.\n",
            "  warnings.warn(message, FutureWarning)\n"
          ],
          "name": "stderr"
        }
      ]
    },
    {
      "cell_type": "markdown",
      "metadata": {
        "id": "QzFBHtFHRBkH"
      },
      "source": [
        "# Download the Data \n",
        "Keep this if you are working in Google Colab. Delete this if you are working on your own computer and have the data downloaded already. "
      ]
    },
    {
      "cell_type": "code",
      "metadata": {
        "id": "gD8xgRYrRAV3",
        "colab": {
          "base_uri": "https://localhost:8080/"
        },
        "outputId": "ded3fc13-8f68-4664-cf7b-3242df1302d5"
      },
      "source": [
        "!wget --no-check-certificate 'https://docs.google.com/uc?export=download&id=0B5qTk6DHjanhOV9LRE5DY3l1T2pGemVBNTVQVzVsMlFCcHF3' -O lendingclub.csv"
      ],
      "execution_count": 2,
      "outputs": [
        {
          "output_type": "stream",
          "text": [
            "--2021-02-28 20:29:42--  https://docs.google.com/uc?export=download&id=0B5qTk6DHjanhOV9LRE5DY3l1T2pGemVBNTVQVzVsMlFCcHF3\n",
            "Resolving docs.google.com (docs.google.com)... 108.177.127.113, 108.177.127.100, 108.177.127.102, ...\n",
            "Connecting to docs.google.com (docs.google.com)|108.177.127.113|:443... connected.\n",
            "HTTP request sent, awaiting response... 302 Moved Temporarily\n",
            "Location: https://doc-10-5c-docs.googleusercontent.com/docs/securesc/ha0ro937gcuc7l7deffksulhg5h7mbp1/iokq925n0tfl7747c33v7rdjo9nq4i9n/1614544125000/09819396713149841370/*/0B5qTk6DHjanhOV9LRE5DY3l1T2pGemVBNTVQVzVsMlFCcHF3?e=download [following]\n",
            "Warning: wildcards not supported in HTTP.\n",
            "--2021-02-28 20:29:43--  https://doc-10-5c-docs.googleusercontent.com/docs/securesc/ha0ro937gcuc7l7deffksulhg5h7mbp1/iokq925n0tfl7747c33v7rdjo9nq4i9n/1614544125000/09819396713149841370/*/0B5qTk6DHjanhOV9LRE5DY3l1T2pGemVBNTVQVzVsMlFCcHF3?e=download\n",
            "Resolving doc-10-5c-docs.googleusercontent.com (doc-10-5c-docs.googleusercontent.com)... 108.177.126.132, 2a00:1450:4013:c01::84\n",
            "Connecting to doc-10-5c-docs.googleusercontent.com (doc-10-5c-docs.googleusercontent.com)|108.177.126.132|:443... connected.\n",
            "HTTP request sent, awaiting response... 200 OK\n",
            "Length: unspecified [text/csv]\n",
            "Saving to: ‘lendingclub.csv’\n",
            "\n",
            "lendingclub.csv         [  <=>               ]   6.03M  14.5MB/s    in 0.4s    \n",
            "\n",
            "2021-02-28 20:29:44 (14.5 MB/s) - ‘lendingclub.csv’ saved [6325329]\n",
            "\n"
          ],
          "name": "stdout"
        }
      ]
    },
    {
      "cell_type": "markdown",
      "metadata": {
        "id": "epwx_bbnnAwy"
      },
      "source": [
        "**Pre-Proccessing**"
      ]
    },
    {
      "cell_type": "code",
      "metadata": {
        "id": "WcZI9sBI5QLv",
        "colab": {
          "base_uri": "https://localhost:8080/",
          "height": 204
        },
        "outputId": "070f4e1d-e245-4e85-ae1b-4857f88cb006"
      },
      "source": [
        "lendingclub = pd.read_csv(\"lendingclub.csv\")\n",
        "lendingclub[\"Accept\"] = lendingclub[\"outcome\"] == \"accept\"\n",
        "lendingclub[\"Reject\"] = lendingclub[\"outcome\"] == \"reject\"\n",
        "lendingclub.head()"
      ],
      "execution_count": 3,
      "outputs": [
        {
          "output_type": "execute_result",
          "data": {
            "text/html": [
              "<div>\n",
              "<style scoped>\n",
              "    .dataframe tbody tr th:only-of-type {\n",
              "        vertical-align: middle;\n",
              "    }\n",
              "\n",
              "    .dataframe tbody tr th {\n",
              "        vertical-align: top;\n",
              "    }\n",
              "\n",
              "    .dataframe thead th {\n",
              "        text-align: right;\n",
              "    }\n",
              "</style>\n",
              "<table border=\"1\" class=\"dataframe\">\n",
              "  <thead>\n",
              "    <tr style=\"text-align: right;\">\n",
              "      <th></th>\n",
              "      <th>amount</th>\n",
              "      <th>date</th>\n",
              "      <th>title</th>\n",
              "      <th>fico</th>\n",
              "      <th>dti</th>\n",
              "      <th>zip</th>\n",
              "      <th>state</th>\n",
              "      <th>emp_length</th>\n",
              "      <th>policy_code</th>\n",
              "      <th>year</th>\n",
              "      <th>outcome</th>\n",
              "      <th>Accept</th>\n",
              "      <th>Reject</th>\n",
              "    </tr>\n",
              "  </thead>\n",
              "  <tbody>\n",
              "    <tr>\n",
              "      <th>0</th>\n",
              "      <td>2500.0</td>\n",
              "      <td>Dec-2011</td>\n",
              "      <td>bike</td>\n",
              "      <td>740.0</td>\n",
              "      <td>1.00</td>\n",
              "      <td>309xx</td>\n",
              "      <td>GA</td>\n",
              "      <td>&lt; 1 year</td>\n",
              "      <td>1.0</td>\n",
              "      <td>2011</td>\n",
              "      <td>accept</td>\n",
              "      <td>True</td>\n",
              "      <td>False</td>\n",
              "    </tr>\n",
              "    <tr>\n",
              "      <th>1</th>\n",
              "      <td>12000.0</td>\n",
              "      <td>Dec-2011</td>\n",
              "      <td>Consolidation</td>\n",
              "      <td>675.0</td>\n",
              "      <td>10.78</td>\n",
              "      <td>913xx</td>\n",
              "      <td>CA</td>\n",
              "      <td>10+ years</td>\n",
              "      <td>1.0</td>\n",
              "      <td>2011</td>\n",
              "      <td>accept</td>\n",
              "      <td>True</td>\n",
              "      <td>False</td>\n",
              "    </tr>\n",
              "    <tr>\n",
              "      <th>2</th>\n",
              "      <td>21000.0</td>\n",
              "      <td>Dec-2011</td>\n",
              "      <td>Debt Cleanup</td>\n",
              "      <td>705.0</td>\n",
              "      <td>13.22</td>\n",
              "      <td>335xx</td>\n",
              "      <td>FL</td>\n",
              "      <td>10+ years</td>\n",
              "      <td>1.0</td>\n",
              "      <td>2011</td>\n",
              "      <td>accept</td>\n",
              "      <td>True</td>\n",
              "      <td>False</td>\n",
              "    </tr>\n",
              "    <tr>\n",
              "      <th>3</th>\n",
              "      <td>31825.0</td>\n",
              "      <td>Dec-2011</td>\n",
              "      <td>Debt Consolidation Loan</td>\n",
              "      <td>760.0</td>\n",
              "      <td>14.03</td>\n",
              "      <td>080xx</td>\n",
              "      <td>NJ</td>\n",
              "      <td>5 years</td>\n",
              "      <td>1.0</td>\n",
              "      <td>2011</td>\n",
              "      <td>accept</td>\n",
              "      <td>True</td>\n",
              "      <td>False</td>\n",
              "    </tr>\n",
              "    <tr>\n",
              "      <th>4</th>\n",
              "      <td>12000.0</td>\n",
              "      <td>Dec-2011</td>\n",
              "      <td>Debt Consolidation</td>\n",
              "      <td>725.0</td>\n",
              "      <td>16.70</td>\n",
              "      <td>088xx</td>\n",
              "      <td>NJ</td>\n",
              "      <td>10+ years</td>\n",
              "      <td>1.0</td>\n",
              "      <td>2011</td>\n",
              "      <td>accept</td>\n",
              "      <td>True</td>\n",
              "      <td>False</td>\n",
              "    </tr>\n",
              "  </tbody>\n",
              "</table>\n",
              "</div>"
            ],
            "text/plain": [
              "    amount      date                    title  ...  outcome  Accept Reject\n",
              "0   2500.0  Dec-2011                     bike  ...   accept    True  False\n",
              "1  12000.0  Dec-2011            Consolidation  ...   accept    True  False\n",
              "2  21000.0  Dec-2011             Debt Cleanup  ...   accept    True  False\n",
              "3  31825.0  Dec-2011  Debt Consolidation Loan  ...   accept    True  False\n",
              "4  12000.0  Dec-2011       Debt Consolidation  ...   accept    True  False\n",
              "\n",
              "[5 rows x 13 columns]"
            ]
          },
          "metadata": {
            "tags": []
          },
          "execution_count": 3
        }
      ]
    },
    {
      "cell_type": "code",
      "metadata": {
        "id": "JvQMLA0nm3Yl",
        "colab": {
          "base_uri": "https://localhost:8080/"
        },
        "outputId": "2c2d0af6-c2d8-4301-85c6-a1b6ed155b9e"
      },
      "source": [
        "def employ_norm(x):\n",
        "    if x == \"< 1 year\":\n",
        "        return \"short\"\n",
        "    if x == \"2 years\":\n",
        "        return \"short\"\n",
        "    if x == \"3 years\":\n",
        "        return \"short\"\n",
        "    if x == \"4 years\":\n",
        "        return \"medium\"\n",
        "    if x == \"5 years\":\n",
        "        return \"medium\"\n",
        "    if x == \"6 years\":\n",
        "        return \"medium\"\n",
        "    if x == \"7 years\":\n",
        "        return \"long\"\n",
        "    if x == \"8 years\":\n",
        "        return \"long\"\n",
        "    if x == \"9 years\":\n",
        "        return \"long\"\n",
        "    if x == \"10+ years\":\n",
        "        return \"long\"\n",
        "    \n",
        "lendingclub[\"employ_norm\"] = lendingclub[\"emp_length\"].apply(employ_norm)\n",
        "lendingclub[\"employ_norm\"].value_counts()"
      ],
      "execution_count": 4,
      "outputs": [
        {
          "output_type": "execute_result",
          "data": {
            "text/plain": [
              "short     63117\n",
              "long       9086\n",
              "medium     5937\n",
              "Name: employ_norm, dtype: int64"
            ]
          },
          "metadata": {
            "tags": []
          },
          "execution_count": 4
        }
      ]
    },
    {
      "cell_type": "markdown",
      "metadata": {
        "id": "oVckZGqVWNYV"
      },
      "source": [
        "\r\n",
        "# Feature Engineering\r\n",
        "\r\n",
        "   - The `state` column is currently broken into 51 distinct values. Create a new feature, `region`, that groups similar states together.\r\n",
        "   - The `emp_length` column is currently a nominal value. Create a new feature, `emp_length_numeric`, that treats the variable as a numeric value instead.\r\n"
      ]
    },
    {
      "cell_type": "code",
      "metadata": {
        "id": "e7yFU25A_Fbr",
        "colab": {
          "base_uri": "https://localhost:8080/"
        },
        "outputId": "2f56ed84-cc48-46b7-ec5e-6495a5262c27"
      },
      "source": [
        "#State region variable\n",
        "#This function groups states into geographic regions\n",
        "#I included an NA as a check to make sures every state was being assigned\n",
        "#This would allow me to spot coding errors(me) or data entry errors (lending club)\n",
        "#Luckily everything was properly assigned\n",
        "def region_func(value):\n",
        "  if value in (\"ME\", \"NH\", \"VT\", \"MA\", \"RI\", \"CT\", \"PA\", \"NJ\", \"DE\",\"MD\",\"NY\"):\n",
        "    return \"NorthEast\"\n",
        "  if value in (\"WV\", \"VA\", \"KY\", \"NC\", \"DC\", \"SC\", \"TN\", \"AR\", \"LA\", \"MS\", \"AL\", \"GA\", \"FL\"):\n",
        "    return \"South\"\n",
        "  if value in (\"MN\", \"WI\", \"MI\", \"IA\", \"MO\", \"IL\", \"IN\", \"OH\"):\n",
        "    return \"MidWest\"\n",
        "  if value in (\"MT\", \"ND\", \"SD\", \"WY\", \"NE\", \"CO\", \"KS\"):\n",
        "    return \"Central\"\n",
        "  if value in (\"AK\", \"HI\", \"CA\", \"OR\", \"WA\", \"ID\", \"NV\", \"UT\"):\n",
        "    return \"West\"\n",
        "  if value in (\"AZ\", \"NM\", \"TX\", \"OK\"):\n",
        "    return \"SouthWest\"\n",
        "  else: \n",
        "    return \"NA\"\n",
        "\n",
        "lendingclub[\"region\"] = lendingclub[\"state\"].apply(region_func)\n",
        "lendingclub[\"region\"].value_counts()"
      ],
      "execution_count": 6,
      "outputs": [
        {
          "output_type": "execute_result",
          "data": {
            "text/plain": [
              "South        20889\n",
              "NorthEast    19738\n",
              "West         15732\n",
              "MidWest      12454\n",
              "SouthWest     9606\n",
              "Central       2684\n",
              "Name: region, dtype: int64"
            ]
          },
          "metadata": {
            "tags": []
          },
          "execution_count": 6
        }
      ]
    },
    {
      "cell_type": "code",
      "metadata": {
        "id": "hvqx7NAcCZcx",
        "colab": {
          "base_uri": "https://localhost:8080/"
        },
        "outputId": "80e8cb84-39e0-4ca8-8269-d1c7b9ac1398"
      },
      "source": [
        "# Employee length numeric\n",
        "# The following function involved some rounding\n",
        "# <1 is now 1\n",
        "# >10 is now 10\n",
        "# But now everything is numeric\n",
        "\n",
        "def employ_norm(x):\n",
        "    if x == \"< 1 year\":\n",
        "        return 1\n",
        "    if x == \"1 year\":\n",
        "        return 1\n",
        "    if x == \"2 years\":\n",
        "        return 2\n",
        "    if x == \"3 years\":\n",
        "        return 3\n",
        "    if x == \"4 years\":\n",
        "        return 4\n",
        "    if x == \"5 years\":\n",
        "        return 5\n",
        "    if x == \"6 years\":\n",
        "        return 6\n",
        "    if x == \"7 years\":\n",
        "        return 7\n",
        "    if x == \"8 years\":\n",
        "        return 8\n",
        "    if x == \"9 years\":\n",
        "        return 9\n",
        "    if x == \"10+ years\":\n",
        "        return 10\n",
        "    else:\n",
        "        return \"NA\"\n",
        "    \n",
        "lendingclub[\"emp_length_numeric\"] = lendingclub[\"emp_length\"].apply(employ_norm)\n",
        "lendingclub[\"emp_length_numeric\"].value_counts()"
      ],
      "execution_count": 7,
      "outputs": [
        {
          "output_type": "execute_result",
          "data": {
            "text/plain": [
              "1     60028\n",
              "10     5959\n",
              "2      3362\n",
              "3      2690\n",
              "4      2175\n",
              "5      2135\n",
              "6      1627\n",
              "7      1243\n",
              "8      1054\n",
              "9       830\n",
              "Name: emp_length_numeric, dtype: int64"
            ]
          },
          "metadata": {
            "tags": []
          },
          "execution_count": 7
        }
      ]
    },
    {
      "cell_type": "markdown",
      "metadata": {
        "id": "Fv1rAV8ZInNg"
      },
      "source": [
        "# Evaulting the performance of the new custom features"
      ]
    },
    {
      "cell_type": "markdown",
      "metadata": {
        "id": "JyKYY_wZQpkU"
      },
      "source": [
        "Keeping this simple - I'm going to use my most accurate model from assignment 1 - loan + credit decision tree. We'll be using entropy and optimizing for accuracy. \n",
        "\n",
        "I'll then evalue it as follows:\n",
        "1. By itself\n",
        "2. With State\n",
        "3. With Region\n",
        "4. With emp_length\n",
        "5. With emp_length_numeric"
      ]
    },
    {
      "cell_type": "code",
      "metadata": {
        "id": "b21Iu74_QETv",
        "colab": {
          "base_uri": "https://localhost:8080/"
        },
        "outputId": "b6f53bcd-6b43-4b33-f9f7-13adf1dd7f47"
      },
      "source": [
        "loan_features = [\"amount\"]\n",
        "credit_features = [\"fico\", \"dti\"]\n",
        "state_features = [\"state\"]\n",
        "region_features = [\"region\"]\n",
        "employment_features = [\"emp_length\"]\n",
        "employment_numeric = [\"emp_length_numeric\"]\n",
        "\n",
        "feature_sets = {\n",
        "    \"loan and credit\": loan_features + credit_features,\n",
        "    \"loan and credit and state\": loan_features + credit_features + state_features,\n",
        "    \"loan and credit and region\": loan_features + credit_features + region_features,\n",
        "    \"loan and credit and employment\": loan_features + credit_features + employment_features,\n",
        "    \"loan and credit and employment_norm\": loan_features + credit_features + employment_numeric,\n",
        "}\n",
        "\n",
        "best = 0\n",
        "best_name = None\n",
        "\n",
        "precisions = []\n",
        "recalls = []\n",
        "kappas = []\n",
        "accuracies = []\n",
        "\n",
        "predictions = {}\n",
        "actual = None\n",
        "\n",
        "for set_name, feature_set in feature_sets.items():\n",
        "\n",
        "    X = lendingclub.loc[:, feature_set]\n",
        "    X = pd.get_dummies(X)\n",
        "\n",
        "    y = lendingclub[\"Accept\"]\n",
        "\n",
        "    X_train, X_test, y_train, y_test = train_test_split(X,y,test_size=0.20, random_state=123)\n",
        "\n",
        "    model = DecisionTreeClassifier(criterion=\"entropy\", random_state=123).fit(X_train, y_train)\n",
        "    y_pred = model.predict(X_test)\n",
        "\n",
        "    accuracy = 100*accuracy_score(y_test, y_pred)\n",
        "    kappa = cohen_kappa_score(y_test, y_pred)\n",
        "    precision = precision_score(y_test, y_pred)\n",
        "    recall = recall_score(y_test, y_pred)\n",
        "    \n",
        "    metric_to_optimize = accuracy\n",
        "    \n",
        "    if metric_to_optimize > best:\n",
        "        best = metric_to_optimize\n",
        "        best_name = set_name\n",
        "        \n",
        "    predictions[set_name] = y_pred\n",
        "    actual = np.array(list(y_test))\n",
        "    \n",
        "    # Bookkeeping and printing for the reader (not part of the core loop)\n",
        "    print(f\"Results for {set_name}:\")\n",
        "    print(f\"Accuracy: {accuracy:.1f} Kappa: {kappa:.3f} Precision: {precision:.3f} Recall: {recall:.3f}\")\n",
        "    precisions.append(precision)\n",
        "    recalls.append(recall)\n",
        "    kappas.append(kappa)\n",
        "    accuracies.append(accuracy)\n",
        "    print(f\"   Tree contains {model.get_n_leaves()} leaves\")\n",
        "    print(\"------------------------\")\n",
        "\n",
        "   \n",
        "print(f\"Best feature set is: {best_name} \\nWith: {best:.1f}% accuracy.\")  "
      ],
      "execution_count": 9,
      "outputs": [
        {
          "output_type": "stream",
          "text": [
            "Results for loan and credit:\n",
            "Accuracy: 93.7 Kappa: 0.692 Precision: 0.733 Recall: 0.722\n",
            "   Tree contains 3759 leaves\n",
            "------------------------\n",
            "Results for loan and credit and state:\n",
            "Accuracy: 93.9 Kappa: 0.699 Precision: 0.736 Recall: 0.732\n",
            "   Tree contains 3243 leaves\n",
            "------------------------\n",
            "Results for loan and credit and region:\n",
            "Accuracy: 93.7 Kappa: 0.689 Precision: 0.732 Recall: 0.717\n",
            "   Tree contains 3567 leaves\n",
            "------------------------\n",
            "Results for loan and credit and employment:\n",
            "Accuracy: 94.9 Kappa: 0.748 Precision: 0.783 Recall: 0.771\n",
            "   Tree contains 3066 leaves\n",
            "------------------------\n",
            "Results for loan and credit and employment_norm:\n",
            "Accuracy: 93.4 Kappa: 0.677 Precision: 0.713 Recall: 0.716\n",
            "   Tree contains 3783 leaves\n",
            "------------------------\n",
            "Best feature set is: loan and credit and employment \n",
            "With: 94.9% accuracy.\n"
          ],
          "name": "stdout"
        }
      ]
    },
    {
      "cell_type": "markdown",
      "metadata": {
        "id": "peWpGsfITiNM"
      },
      "source": [
        "Looking at these results, there really is no improvement in accuracy, kappa, precision, or recall after including the new region and numerical employment features. In addition, the leaves actually increase with the new features. Intuitively this makes sense - the borrower's region should not influence the matching process. I was hoping employment length numeric would improve the model since it was now continous and not categorical i.e. the levels would improve the model. "
      ]
    },
    {
      "cell_type": "markdown",
      "metadata": {
        "id": "B2ZEWAqydB47"
      },
      "source": [
        "# Model Optimization\n",
        "\n",
        "\n",
        "1. Decision tree vs. logistic regression classification.\n",
        "2. Hyperparameter tuning for the best-performing model.\n",
        "3. Number of folds or stratification strategy for cross-validation.\n",
        "\n"
      ]
    },
    {
      "cell_type": "markdown",
      "metadata": {
        "id": "uFcDqrUcpXgM"
      },
      "source": [
        "**Pre-processing**"
      ]
    },
    {
      "cell_type": "code",
      "metadata": {
        "id": "OgRvul2tn9Fc"
      },
      "source": [
        "# Creating a custom function to display a Confusion Matrix with Reject and Accept labels\n",
        "# Define a function that takes in the predictions of a classifier, the true labels,\n",
        "# and a set of metrics and displays the model's performance on the metrics\n",
        "def common_evaluations(y_pred, y_actual, metrics, model_name = 'model'):\n",
        "    # Compute Metrics\n",
        "    conf_matrix = confusion_matrix(y_actual, y_pred)\n",
        "    model_results = {}\n",
        "    for (metric_name, metric) in metrics.items():\n",
        "        result = metric(y_actual, y_pred)\n",
        "        model_results[metric_name] = result\n",
        "\n",
        "    # Display Metrics\n",
        "    print(f\"Results for {model_name}:\")\n",
        "    ConfusionMatrixDisplay(conf_matrix, [\"Reject\", \"Accept\"]).plot(values_format='.5g')\n",
        "    plt.show()\n",
        "    print(model_results)\n",
        "    print(\"------------------------\")\n",
        "\n",
        "    return model_results"
      ],
      "execution_count": 11,
      "outputs": []
    },
    {
      "cell_type": "markdown",
      "metadata": {
        "id": "ccoPodbKuUMp"
      },
      "source": [
        "**#1 Decision Tree vs. Logistic Regression Classification**"
      ]
    },
    {
      "cell_type": "code",
      "metadata": {
        "id": "ek1MIK60mK-0",
        "colab": {
          "base_uri": "https://localhost:8080/",
          "height": 677
        },
        "outputId": "315c8115-afc5-4cd7-e61e-b4909ff95762"
      },
      "source": [
        "#Setting up two classifiers\n",
        "#Optimizing for Accuracy\n",
        "classifiers = {\n",
        "    \"Decision Tree\"      : DecisionTreeClassifier(criterion=\"entropy\", random_state=123),\n",
        "    \"Logistic Regression\": LogisticRegression(penalty=\"none\", solver=\"lbfgs\", max_iter=10000, random_state=123),\n",
        "}\n",
        "\n",
        "# Set a list of metrics we want to use to compare our classifiers \n",
        "metrics = {\n",
        "    \"Accuracy\" : lambda y,y_pred: 100*accuracy_score(y,y_pred),\n",
        "    \"Kappa\"    : cohen_kappa_score,\n",
        "    \"Precision\": precision_score,\n",
        "    \"Recall\"   : recall_score\n",
        "}\n",
        "\n",
        "# Choose a metric to optimize over\n",
        "metric_to_optimize = 'Accuracy'\n",
        "\n",
        "# Choose a subset of features for our dataset\n",
        "# These features were chosen since they produced the highest accuracies for HW1 - they will be constant for this section\n",
        "loan_features = [\"amount\"]\n",
        "credit_features = [\"fico\", \"dti\"]\n",
        "location_features = [\"state\"]\n",
        "employment_features = [\"employ_norm\"]\n",
        "\n",
        "feature_sets = {\n",
        "    \"loan only\": loan_features,\n",
        "    \"credit only\": credit_features,\n",
        "    \"loan and credit\": loan_features + credit_features,\n",
        "    \"location only\": location_features,\n",
        "    \"employment only\": employment_features,\n",
        "    \"all features\": loan_features + credit_features + location_features + employment_features\n",
        "}\n",
        "\n",
        "# Create our train/test split using this subset of features\n",
        "# 80% training data, 20% test data\n",
        "X = lendingclub.loc[:, feature_set]\n",
        "y = lendingclub[\"Accept\"]\n",
        "X_train, X_test, y_train, y_test = train_test_split(X,y,test_size=0.20, random_state=12345)\n",
        "\n",
        "# Create variables to keep track of our best model and the metrics for each model\n",
        "best_model_metric = 0\n",
        "best_model_name = None\n",
        "\n",
        "all_model_metrics = {metric: [] for metric in metrics}\n",
        "\n",
        "# For each model in our set of classifiers\n",
        "for classifier_name, classifier in classifiers.items():\n",
        "\n",
        "    # Train the classifier and get its predictions on the test set\n",
        "    model = classifier.fit(X_train, y_train)\n",
        "    y_pred = model.predict(X_test)\n",
        "\n",
        "    # Evaluate our metrics on the data \n",
        "    model_results = common_evaluations(y_pred, y_test, metrics, classifier_name)\n",
        "    \n",
        "    # Update our best model if this model is better than our previous best\n",
        "    comparison_metric = model_results[metric_to_optimize]\n",
        "    if comparison_metric > best_model_metric:\n",
        "        best_model_metric = comparison_metric\n",
        "        best_model_name = classifier_name\n",
        "\n",
        "    # Store the metrics for this model\n",
        "    for metric in model_results:\n",
        "        all_model_metrics[metric].append(model_results[metric]) \n",
        "    \n",
        "print(f\"Best classifier is: {best_model_name} \\nWith: {best_model_metric:.1f}% accuracy.\")  "
      ],
      "execution_count": 12,
      "outputs": [
        {
          "output_type": "stream",
          "text": [
            "Results for Decision Tree:\n"
          ],
          "name": "stdout"
        },
        {
          "output_type": "display_data",
          "data": {
            "image/png": "[encoded data removed]",
            "text/plain": [
              "<Figure size 432x288 with 2 Axes>"
            ]
          },
          "metadata": {
            "tags": [],
            "needs_background": "light"
          }
        },
        {
          "output_type": "stream",
          "text": [
            "{'Accuracy': 94.28518587016829, 'Kappa': 0.7178052958676342, 'Precision': 0.7474476088124664, 'Recall': 0.7527056277056277}\n",
            "------------------------\n",
            "Results for Logistic Regression:\n"
          ],
          "name": "stdout"
        },
        {
          "output_type": "display_data",
          "data": {
            "image/png": "[encoded data removed]",
            "text/plain": [
              "<Figure size 432x288 with 2 Axes>"
            ]
          },
          "metadata": {
            "tags": [],
            "needs_background": "light"
          }
        },
        {
          "output_type": "stream",
          "text": [
            "{'Accuracy': 85.04407866346094, 'Kappa': 0.10368167898621461, 'Precision': 0.24010791366906475, 'Recall': 0.1444805194805195}\n",
            "------------------------\n",
            "Best classifier is: Decision Tree \n",
            "With: 94.3% accuracy.\n"
          ],
          "name": "stdout"
        }
      ]
    },
    {
      "cell_type": "code",
      "metadata": {
        "id": "bIZhlkD0olzQ",
        "colab": {
          "base_uri": "https://localhost:8080/",
          "height": 295
        },
        "outputId": "b3bf327c-529a-4176-89a9-adafd7aedbe7"
      },
      "source": [
        "# Setting up a plot\n",
        "plt.xlim(0,1)\n",
        "plt.xlabel(\"Precision\")\n",
        "plt.ylim(0,1)\n",
        "plt.ylabel(\"Recall\")\n",
        "plt.title(\"Recall vs Precision for Different Classifiers\")\n",
        "\n",
        "# Plot data\n",
        "names = list(classifiers.keys())\n",
        "for i in range(len(classifiers)):\n",
        "    x = all_model_metrics['Precision'][i]\n",
        "    y = all_model_metrics['Recall'][i]\n",
        "    plt.scatter(x, y)\n",
        "    plt.text(x+.01, y+.01, names[i], fontsize=9)"
      ],
      "execution_count": 13,
      "outputs": [
        {
          "output_type": "display_data",
          "data": {
            "image/png": "[encoded data removed]",
            "text/plain": [
              "<Figure size 432x288 with 1 Axes>"
            ]
          },
          "metadata": {
            "tags": [],
            "needs_background": "light"
          }
        }
      ]
    },
    {
      "cell_type": "code",
      "metadata": {
        "id": "OomDs-kWuzZj"
      },
      "source": [
        "#The decision tree model performs much better than the logistic regression\n",
        "#The accuracy is almost 10% greater, while the precision, recall, and kappa are much higher\n"
      ],
      "execution_count": 14,
      "outputs": []
    },
    {
      "cell_type": "markdown",
      "metadata": {
        "id": "NIu_OFeVunvp"
      },
      "source": [
        "**#2 Hyperparameter Tuning**"
      ]
    },
    {
      "cell_type": "code",
      "metadata": {
        "id": "BdJFa4EBcllp",
        "colab": {
          "base_uri": "https://localhost:8080/"
        },
        "outputId": "d4d266b4-34bf-4707-8cb9-2db664a00373"
      },
      "source": [
        "# Same feature sets from before\n",
        "# Decision tree first\n",
        "X = lendingclub.loc[:, feature_set]\n",
        "y = lendingclub[\"Accept\"]\n",
        "X_train, X_test, y_train, y_test = train_test_split(X,y,test_size=0.20, random_state=12345)\n",
        "\n",
        "# Decide on the hyperparameters we would like to compare\n",
        "hyperparameters = {\n",
        "    \"criterion\":[\"gini\", \"entropy\"],\n",
        "    \"min_impurity_decrease\":[0, 0.0001, 0.001],\n",
        "    \"min_samples_split\":range(2, 20, 2)\n",
        "}\n",
        "\n",
        "# 5 folds for cross-validation\n",
        "kfolds = 5\n",
        "\n",
        "# Initialize a search using cross validation in sklearn\n",
        "# Start with the Decision Tree Model\n",
        "search = GridSearchCV(estimator=DecisionTreeClassifier(random_state=123),\n",
        "                            param_grid=hyperparameters, cv=kfolds, scoring=\"accuracy\")\n",
        "\n",
        "# Train a classifier with each combination of hyperparameters and take the best one\n",
        "# and print out the results\n",
        "classifier = search.fit(X_train, y_train)\n",
        "accuracy = classifier.best_score_\n",
        "best_fit = classifier.best_estimator_\n",
        "print(f\"Best fit when training was {best_fit}\\nWith {100*accuracy:.1f}% accuracy.\")\n",
        "\n",
        "# Evaluate our best model's performance on the test set and print the results\n",
        "y_pred = classifier.predict(X_test)\n",
        "accuracy = 100*accuracy_score(y_test, y_pred)\n",
        "print(f\"Accuracy on held-out test set: {accuracy:.1f}%\")"
      ],
      "execution_count": 15,
      "outputs": [
        {
          "output_type": "stream",
          "text": [
            "Best fit when training was DecisionTreeClassifier(ccp_alpha=0.0, class_weight=None, criterion='entropy',\n",
            "                       max_depth=None, max_features=None, max_leaf_nodes=None,\n",
            "                       min_impurity_decrease=0.0001, min_impurity_split=None,\n",
            "                       min_samples_leaf=1, min_samples_split=10,\n",
            "                       min_weight_fraction_leaf=0.0, presort='deprecated',\n",
            "                       random_state=123, splitter='best')\n",
            "With 95.2% accuracy.\n",
            "Accuracy on held-out test set: 95.2%\n"
          ],
          "name": "stdout"
        }
      ]
    },
    {
      "cell_type": "code",
      "metadata": {
        "id": "px3qEv8ju2kg"
      },
      "source": [
        "#The next couple lines are creating custom functions to run the Logistic Regression Hyperparameters"
      ],
      "execution_count": 16,
      "outputs": []
    },
    {
      "cell_type": "code",
      "metadata": {
        "id": "sFONs6APfuaj"
      },
      "source": [
        "@ignore_warnings(category=ConvergenceWarning)\n",
        "@ignore_warnings(category=UndefinedMetricWarning)\n",
        "def compare_classifiers(classifiers, metrics, metric_to_optimize, df, feature_set,\n",
        "                        target, folds = 10, shuffle = True, noisy='loud'):\n",
        "    # Set up dataset and cross validation\n",
        "    X = df.loc[:, feature_set]\n",
        "    X = pd.get_dummies(X)\n",
        "    y = df[target]\n",
        "    kf = KFold(n_splits=folds, shuffle=shuffle)\n",
        "\n",
        "    # Initialize tracking variables\n",
        "    best = 0\n",
        "    best_name = None\n",
        "    classifier_comparison = {}\n",
        "\n",
        "    # For each classifier\n",
        "    for classifier_name, classifier in classifiers.items():\n",
        "        # Evaluate on all metrics for all folds\n",
        "        all_fold_metrics = evaluate_all_folds(classifier_name, classifier, X, y, kf, metrics, noisy = noisy)\n",
        "\n",
        "        # Compute average performance on metric to optimize over\n",
        "        optimization_metric_avg = np.mean(all_fold_metrics[metric_to_optimize])\n",
        "\n",
        "        # Update Tracking Variables\n",
        "        if optimization_metric_avg > best:\n",
        "            best = optimization_metric_avg\n",
        "            best_name = classifier_name\n",
        "        classifier_comparison[classifier_name] = all_fold_metrics\n",
        "        if noisy == 'quiet': \n",
        "            print()\n",
        "            print(f\"Average {metric_to_optimize}: {optimization_metric_avg:.3f}\")\n",
        "            print('-------------')\n",
        "    # Return our results\n",
        "    return best, best_name, classifier_comparison"
      ],
      "execution_count": 17,
      "outputs": []
    },
    {
      "cell_type": "code",
      "metadata": {
        "id": "e5slHdpdgI4O"
      },
      "source": [
        "def evaluate_all_folds(classifier_name, classifier, X, y, kf, metrics, noisy = 'loud'):\n",
        "\n",
        "    # Initialize tracking variables\n",
        "    all_fold_metrics = {metric_name: [] for metric_name in metrics}\n",
        "\n",
        "    # Iterate over each fold\n",
        "    for fold_num, (train_index, test_index) in enumerate(kf.split(X)):\n",
        "        # Get the data subset for the current fold\n",
        "        X_train = X.iloc[train_index]\n",
        "        X_test = X.iloc[test_index]\n",
        "        y_train = y.iloc[train_index]\n",
        "        y_test = y.iloc[test_index]\n",
        "\n",
        "        # Train and Evaluate the Model\n",
        "        model_metrics =  evaluate_one_fold(classifier_name, classifier, X_train, y_train, X_test, y_test, metrics, fold_num, noisy)\n",
        "\n",
        "        # Update our tracking variables\n",
        "        [all_fold_metrics[metric_name].append(metric_val) for metric_name, metric_val in model_metrics.items()]\n",
        "\n",
        "    return all_fold_metrics\n"
      ],
      "execution_count": 18,
      "outputs": []
    },
    {
      "cell_type": "code",
      "metadata": {
        "id": "S3ftHEG5gVBS"
      },
      "source": [
        "def evaluate_one_fold(classifier_name, classifier, X_train, y_train, X_test, y_test, metrics, fold_num, noisy = 'loud'):\n",
        "\n",
        "    # Train and Evaluate Model\n",
        "    model = classifier.fit(X_train, y_train)\n",
        "    y_pred = model.predict(X_test)\n",
        "    conf_matrix, model_metrics = evaluate(y_pred, y_test, metrics, model_name = classifier_name)\n",
        "\n",
        "    # Display Results appropriately when noisy is set to 'loud' or 'quiet'\n",
        "    if noisy == 'quiet' and fold_num == 0:\n",
        "        print(f\"{classifier_name}: Fold {fold_num}\", end = '')\n",
        "    elif noisy == 'quiet':\n",
        "        print(f'...{fold_num}', end ='')\n",
        "    elif noisy == 'loud':\n",
        "        print(f\"{classifier_name}: Fold {fold_num} Results\")\n",
        "        ConfusionMatrixDisplay(conf_matrix, [\"low traffic\", \"high traffic\"]).plot(values_format='.4g')\n",
        "        plt.show()\n",
        "        print(model_metrics)\n",
        "        print(\"------------------------\")\n",
        "\n",
        "    return model_metrics"
      ],
      "execution_count": 19,
      "outputs": []
    },
    {
      "cell_type": "code",
      "metadata": {
        "id": "-8t5ooQRggUB"
      },
      "source": [
        "# Start by defining a function to evaluate a classifier's predictions\n",
        "def evaluate(y_pred, y_actual, metrics, model_name = 'model'):\n",
        "    # Compute Confusion Matrix\n",
        "    conf_matrix = confusion_matrix(y_actual, y_pred)\n",
        "\n",
        "    # Compute and store each metric\n",
        "    model_metrics = {}\n",
        "    for (metric_name, metric) in metrics.items():\n",
        "        result = metric(y_actual, y_pred)\n",
        "        model_metrics[metric_name] = result\n",
        "\n",
        "    return conf_matrix, model_metrics"
      ],
      "execution_count": 20,
      "outputs": []
    },
    {
      "cell_type": "code",
      "metadata": {
        "id": "yhGECZMRg5zG"
      },
      "source": [
        "# Now trying the logistic regression model\n",
        "# Here are some hyperparameters we could potentially optimize over\n",
        "\n",
        "# Types of Regularization\n",
        "cost_type = [\"l1\", \"l2\", \"elasticnet\", \"none\"]\n",
        "\n",
        "# Types of elasticnet mix ratio\n",
        "elastic_net_mixes = [0, 0.2, 0.4, 0.6, 0.8, 1]\n",
        "\n",
        "# Strength of regularization\n",
        "# Only 3 strengths since regularization model is taking too long\n",
        "strengths = [0.0001, 0.01, 1]"
      ],
      "execution_count": 21,
      "outputs": []
    },
    {
      "cell_type": "code",
      "metadata": {
        "id": "AzjQZKemeSeE",
        "colab": {
          "base_uri": "https://localhost:8080/"
        },
        "outputId": "eebcadcc-1d23-44c3-cc3f-ac8c1e74739e"
      },
      "source": [
        "# Pick Classifiers to Compare\n",
        "classifiers = {\n",
        "    f'Logistic Regression with C = {strength}': LogisticRegression(penalty=\"l1\", C=strength, solver=\"saga\", max_iter=1000, random_state=123)\n",
        "    for strength in strengths\n",
        "}\n",
        "\n",
        "# Set a list of metrics we want to use to compare our classifiers \n",
        "metrics = {\n",
        "    \"Accuracy\" : lambda y,y_pred: 100*accuracy_score(y,y_pred),\n",
        "    \"Kappa\"    : cohen_kappa_score\n",
        "}\n",
        "\n",
        "# Choose a metric to optimize over\n",
        "metric_to_optimize = 'Accuracy'\n",
        "\n",
        "# Pick features to use\n",
        "loan_features = [\"amount\"]\n",
        "credit_features = [\"fico\", \"dti\"]\n",
        "location_features = [\"state\"]\n",
        "employment_features = [\"employ_norm\"]\n",
        "\n",
        "feature_sets = {\n",
        "    \"loan only\": loan_features,\n",
        "    \"credit only\": credit_features,\n",
        "    \"loan and credit\": loan_features + credit_features,\n",
        "    \"location only\": location_features,\n",
        "    \"employment only\": employment_features,\n",
        "    \"all features\": loan_features + credit_features + location_features + employment_features\n",
        "}\n",
        "\n",
        "# Compare models and display final result\n",
        "best, best_name, classifier_comparison = compare_classifiers(classifiers, metrics, metric_to_optimize, lendingclub, feature_set, \"Accept\", folds=3, noisy = 'quiet')\n",
        "\n",
        "print(f\"Best classifier is: {best_name} \\nWith: {best:.1f}% accuracy.\")\n"
      ],
      "execution_count": 22,
      "outputs": [
        {
          "output_type": "stream",
          "text": [
            "Logistic Regression with C = 0.0001: Fold 0...1...2\n",
            "Average Accuracy: 88.601\n",
            "-------------\n",
            "Logistic Regression with C = 0.01: Fold 0...1...2\n",
            "Average Accuracy: 88.601\n",
            "-------------\n",
            "Logistic Regression with C = 1: Fold 0...1...2\n",
            "Average Accuracy: 88.601\n",
            "-------------\n",
            "Best classifier is: Logistic Regression with C = 0.01 \n",
            "With: 88.6% accuracy.\n"
          ],
          "name": "stdout"
        }
      ]
    },
    {
      "cell_type": "code",
      "metadata": {
        "id": "-aUyaNcMnYpJ",
        "colab": {
          "base_uri": "https://localhost:8080/",
          "height": 299
        },
        "outputId": "5ad96eda-76f0-4faf-ada7-e79dff600a1d"
      },
      "source": [
        "# Compute the average accuracy for each model\n",
        "accuracies = [np.mean(classifier_comparison[classifier]['Accuracy']) for classifier in classifier_comparison]\n",
        "\n",
        "# Plot the relation between regularization strength and accuracy\n",
        "plt.title('Test Set Accuracy vs. Strength of Regularization')\n",
        "plt.plot(strengths, accuracies)\n",
        "plt.xlabel(\"Strength of Regularization\")\n",
        "plt.xscale(\"log\")\n",
        "plt.ylabel(\"Test set accuracy\")\n",
        "plt.show()"
      ],
      "execution_count": 23,
      "outputs": [
        {
          "output_type": "display_data",
          "data": {
            "image/png": "[encoded data removed]",
            "text/plain": [
              "<Figure size 432x288 with 1 Axes>"
            ]
          },
          "metadata": {
            "tags": [],
            "needs_background": "light"
          }
        }
      ]
    },
    {
      "cell_type": "markdown",
      "metadata": {
        "id": "vqUaT1obvD-0"
      },
      "source": [
        "**#3 Number of folds or stratification strategy for cross-validation**\n",
        "\n",
        "Can changing the numer of folds improve model accuracy?"
      ]
    },
    {
      "cell_type": "code",
      "metadata": {
        "id": "0DLBYB0nxQ-C",
        "colab": {
          "base_uri": "https://localhost:8080/"
        },
        "outputId": "610281e0-8304-4520-a7b6-f804d7cbca92"
      },
      "source": [
        "# Same features as before\n",
        "\n",
        "# Set up our dataset and cross validation split\n",
        "X = lendingclub.loc[:, feature_set]\n",
        "X = pd.get_dummies(X)\n",
        "y = lendingclub[\"Accept\"]\n",
        "\n",
        "classifier = DecisionTreeClassifier(criterion=\"entropy\", random_state=123)\n",
        "\n",
        "num_folds = 10\n",
        "\n",
        "accuracies = []\n",
        "\n",
        "for i in range(num_folds):\n",
        "    X_train = X.loc[X.index % num_folds != i]\n",
        "    X_test = X.loc[X.index % num_folds == i]\n",
        "    y_train = y.loc[y.index % num_folds != i]\n",
        "    y_test = y.loc[y.index % num_folds == i]\n",
        "    \n",
        "    model = classifier.fit(X_train, y_train)\n",
        "    y_pred = model.predict(X_test)\n",
        "    accuracy = 100*accuracy_score(y_test,y_pred)\n",
        "    print(f\"Fold {i}: {accuracy:.1f}% accuracy.\")\n",
        "    accuracies.append(accuracy)\n",
        "\n",
        "avg_accuracy = np.mean(accuracies)\n",
        "print(f\"Average accuracy: {avg_accuracy:.1f}%\")"
      ],
      "execution_count": 24,
      "outputs": [
        {
          "output_type": "stream",
          "text": [
            "Fold 0: 94.5% accuracy.\n",
            "Fold 1: 94.2% accuracy.\n",
            "Fold 2: 94.5% accuracy.\n",
            "Fold 3: 93.6% accuracy.\n",
            "Fold 4: 94.3% accuracy.\n",
            "Fold 5: 94.4% accuracy.\n",
            "Fold 6: 93.9% accuracy.\n",
            "Fold 7: 94.1% accuracy.\n",
            "Fold 8: 94.7% accuracy.\n",
            "Fold 9: 94.3% accuracy.\n",
            "Average accuracy: 94.2%\n"
          ],
          "name": "stdout"
        }
      ]
    },
    {
      "cell_type": "code",
      "metadata": {
        "id": "OlFVCvtFx-JJ"
      },
      "source": [
        "#About 10 folds produces the highest average accuracies for decision tree\n",
        "#I tried decreasing and increasing folds with worse average accuracies\n",
        "#Now lets see if changing the k folds improves our logsitic regression model"
      ],
      "execution_count": 25,
      "outputs": []
    },
    {
      "cell_type": "code",
      "metadata": {
        "id": "5Zs5l0HSzuGS",
        "colab": {
          "base_uri": "https://localhost:8080/"
        },
        "outputId": "d69cbe48-12fd-4a88-b24d-01c3120325b6"
      },
      "source": [
        "classifier = LogisticRegression(penalty=\"none\", solver=\"lbfgs\", max_iter=10000, random_state=123)\n",
        "\n",
        "num_folds = 10\n",
        "\n",
        "accuracies = []\n",
        "\n",
        "for i in range(num_folds):\n",
        "    X_train = X.loc[X.index % num_folds != i]\n",
        "    X_test = X.loc[X.index % num_folds == i]\n",
        "    y_train = y.loc[y.index % num_folds != i]\n",
        "    y_test = y.loc[y.index % num_folds == i]\n",
        "    \n",
        "    model = classifier.fit(X_train, y_train)\n",
        "    y_pred = model.predict(X_test)\n",
        "    accuracy = 100*accuracy_score(y_test,y_pred)\n",
        "    print(f\"Fold {i}: {accuracy:.1f}% accuracy.\")\n",
        "    accuracies.append(accuracy)\n",
        "\n",
        "avg_accuracy = np.mean(accuracies)\n",
        "print(f\"Average accuracy: {avg_accuracy:.1f}%\")"
      ],
      "execution_count": 26,
      "outputs": [
        {
          "output_type": "stream",
          "text": [
            "Fold 0: 89.2% accuracy.\n",
            "Fold 1: 89.0% accuracy.\n",
            "Fold 2: 89.3% accuracy.\n",
            "Fold 3: 89.3% accuracy.\n",
            "Fold 4: 89.1% accuracy.\n",
            "Fold 5: 89.2% accuracy.\n",
            "Fold 6: 89.5% accuracy.\n",
            "Fold 7: 89.2% accuracy.\n",
            "Fold 8: 89.4% accuracy.\n",
            "Fold 9: 85.2% accuracy.\n",
            "Average accuracy: 88.8%\n"
          ],
          "name": "stdout"
        }
      ]
    },
    {
      "cell_type": "code",
      "metadata": {
        "id": "3aCREbsP0ia3"
      },
      "source": [
        "#10 folds seems to be the sweet spot in achieving highest model accuracy\n",
        "#By controlling folds, the accuracy increases form 85%-88%"
      ],
      "execution_count": 27,
      "outputs": []
    },
    {
      "cell_type": "markdown",
      "metadata": {
        "id": "nA3bEvVfPUTY"
      },
      "source": [
        "# 4 - Fine Tuning - Train/Test Split Size\r\n",
        "\r\n",
        "I basically ran the same code as #3 but toggled the train/test split.\r\n",
        "By increasing test size to 30% the logistic regression accuracy improed from 85% to 89%. Kappa, precision, and recall all greatly improved as well.\r\n",
        "Decision Tree model accuracy remained the same. Optimizing by Accuracy. \r\n",
        "\r\n"
      ]
    },
    {
      "cell_type": "code",
      "metadata": {
        "id": "SXZJctk0TAg9",
        "colab": {
          "base_uri": "https://localhost:8080/",
          "height": 677
        },
        "outputId": "a22bf480-bac5-4ddb-fb8e-8c64936af807"
      },
      "source": [
        "classifiers = {\n",
        "    \"Decision Tree\"      : DecisionTreeClassifier(criterion=\"entropy\", random_state=123),\n",
        "    \"Logistic Regression\": LogisticRegression(penalty=\"none\", solver=\"lbfgs\", max_iter=10000, random_state=123),\n",
        "}\n",
        "\n",
        "# Set a list of metrics we want to use to compare our classifiers \n",
        "metrics = {\n",
        "    \"Accuracy\" : lambda y,y_pred: 100*accuracy_score(y,y_pred),\n",
        "    \"Kappa\"    : cohen_kappa_score,\n",
        "    \"Precision\": precision_score,\n",
        "    \"Recall\"   : recall_score\n",
        "}\n",
        "\n",
        "# Choose a metric to optimize over\n",
        "metric_to_optimize = 'Accuracy'\n",
        "\n",
        "# Choose a subset of features for our dataset\n",
        "# These features were chosen since they produced the highest accuracies for HW1 - they will be constant for this section\n",
        "loan_features = [\"amount\"]\n",
        "credit_features = [\"fico\", \"dti\"]\n",
        "location_features = [\"state\"]\n",
        "employment_features = [\"employ_norm\"]\n",
        "\n",
        "feature_sets = {\n",
        "    \"loan only\": loan_features,\n",
        "    \"credit only\": credit_features,\n",
        "    \"loan and credit\": loan_features + credit_features,\n",
        "    \"location only\": location_features,\n",
        "    \"employment only\": employment_features,\n",
        "    \"all features\": loan_features + credit_features + location_features + employment_features\n",
        "}\n",
        "\n",
        "# Create our train/test split using this subset of features\n",
        "# 70% training data, 30% test data\n",
        "X = lendingclub.loc[:, feature_set]\n",
        "y = lendingclub[\"Accept\"]\n",
        "X_train, X_test, y_train, y_test = train_test_split(X,y,test_size=0.30, random_state=12345)\n",
        "\n",
        "# Create variables to keep track of our best model and the metrics for each model\n",
        "best_model_metric = 0\n",
        "best_model_name = None\n",
        "\n",
        "all_model_metrics = {metric: [] for metric in metrics}\n",
        "\n",
        "# For each model in our set of classifiers\n",
        "for classifier_name, classifier in classifiers.items():\n",
        "\n",
        "    # Train the classifier and get its predictions on the test set\n",
        "    model = classifier.fit(X_train, y_train)\n",
        "    y_pred = model.predict(X_test)\n",
        "\n",
        "    # Evaluate our metrics on the data \n",
        "    model_results = common_evaluations(y_pred, y_test, metrics, classifier_name)\n",
        "    \n",
        "    # Update our best model if this model is better than our previous best\n",
        "    comparison_metric = model_results[metric_to_optimize]\n",
        "    if comparison_metric > best_model_metric:\n",
        "        best_model_metric = comparison_metric\n",
        "        best_model_name = classifier_name\n",
        "\n",
        "    # Store the metrics for this model\n",
        "    for metric in model_results:\n",
        "        all_model_metrics[metric].append(model_results[metric]) \n",
        "    \n",
        "print(f\"Best classifier is: {best_model_name} \\nWith: {best_model_metric:.1f}% accuracy.\")  "
      ],
      "execution_count": 28,
      "outputs": [
        {
          "output_type": "stream",
          "text": [
            "Results for Decision Tree:\n"
          ],
          "name": "stdout"
        },
        {
          "output_type": "display_data",
          "data": {
            "image/png": "[encoded data removed]",
            "text/plain": [
              "<Figure size 432x288 with 2 Axes>"
            ]
          },
          "metadata": {
            "tags": [],
            "needs_background": "light"
          }
        },
        {
          "output_type": "stream",
          "text": [
            "{'Accuracy': 94.1884838272163, 'Kappa': 0.7103345465973958, 'Precision': 0.7485358711566618, 'Recall': 0.7377344877344877}\n",
            "------------------------\n",
            "Results for Logistic Regression:\n"
          ],
          "name": "stdout"
        },
        {
          "output_type": "display_data",
          "data": {
            "image/png": "[encoded data removed]",
            "text/plain": [
              "<Figure size 432x288 with 2 Axes>"
            ]
          },
          "metadata": {
            "tags": [],
            "needs_background": "light"
          }
        },
        {
          "output_type": "stream",
          "text": [
            "{'Accuracy': 89.28938391352595, 'Kappa': 0.3284883967222454, 'Precision': 0.557799442896936, 'Recall': 0.288961038961039}\n",
            "------------------------\n",
            "Best classifier is: Decision Tree \n",
            "With: 94.2% accuracy.\n"
          ],
          "name": "stdout"
        }
      ]
    },
    {
      "cell_type": "markdown",
      "metadata": {
        "id": "fzGyx46IQCeP"
      },
      "source": [
        "# Results - Accuracy"
      ]
    },
    {
      "cell_type": "markdown",
      "metadata": {
        "id": "rg_yYIcVPUJF"
      },
      "source": [
        "|                     |       #1      |       #2       |    #3    |     #4     |\n",
        "|---------------------|:-------------:|:--------------:|:--------:|:----------:|\n",
        "|                     |   Base Model  | Hyperparamters |  K Folds | Train-test |\n",
        "|                     | 80%/20% split |                | 10 Folds |   70%/30%  |\n",
        "| Decision   Tree     |     94.29%    |     **95.20%**     |  94.20%  |   94.19%   |\n",
        "| Logistic Regression |     85.04%    |     88.60%     |  88.80%  |   **89.29%**   |"
      ]
    },
    {
      "cell_type": "markdown",
      "metadata": {
        "id": "3pXOns37Ktu0"
      },
      "source": [
        "**Ranking and Explanation**\n"
      ]
    },
    {
      "cell_type": "markdown",
      "metadata": {
        "id": "5zrIDtGyK1p7"
      },
      "source": [
        "The best model, in terms of accuracy was using a decision tree with the following hyperparameters: \n",
        "\n",
        "ccp_alpha=0.0, class_weight=None,criterion='entropy', max_depth=None, max_features=None, max_leaf_nodes=None, min_impurity_decrease=0.0001, min_impurity_split=None, min_samples_leaf=1, min_samples_split=10,\n",
        "                       min_weight_fraction_leaf=0.0, presort='deprecated',\n",
        "                       random_state=123, splitter='best'. \n",
        "                       \n",
        "This achieved an accuracy of 95% on test and training data. \n",
        "\n",
        "The best logistic regression model was when the test-train split was modified to 70% training, 30% test.\n",
        "\n",
        "Overall, the decision tree models performed much better given the feature set. I believe the table above does a good job of explaining the best models in terms of ranking. "
      ]
    },
    {
      "cell_type": "markdown",
      "metadata": {
        "id": "SN7JP_yrqz-m"
      },
      "source": [
        "# Review"
      ]
    },
    {
      "cell_type": "markdown",
      "metadata": {
        "id": "f_mII26edISl"
      },
      "source": [
        "In assignment 1, I trained a decision tree without optimizing any of the hyperparameters and resulted in a model that was 93.7% accurate on the 20% of test data. The best model from this homework, used the same feature set, decision tree, and 80%/20% train/test split and improved accuracy to 95.2% by tuning hyperparameters. \n",
        "\n",
        "This improvement of 1.5% is relatively small, and the model already did a good job of predicting matches. Similar to the example in assignment 1, this model would allow LendingClub to purchase loans immediately that have a high success of matching. Given loan size and volume this could result in massive short-term revenues with the improved model. "
      ]
    }
  ]
}